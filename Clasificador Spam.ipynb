{
 "cells": [
  {
   "cell_type": "code",
   "execution_count": 27,
   "id": "fe17816c",
   "metadata": {},
   "outputs": [],
   "source": [
    "import pandas as pd\n",
    "\n",
    "from sklearn.model_selection import train_test_split\n",
    "from sklearn.model_selection import cross_val_score\n",
    "from sklearn.feature_extraction.text import CountVectorizer"
   ]
  },
  {
   "cell_type": "markdown",
   "id": "6fe56fd0",
   "metadata": {},
   "source": [
    "### Explorando los datos"
   ]
  },
  {
   "cell_type": "code",
   "execution_count": 18,
   "id": "b7aa8544",
   "metadata": {
    "scrolled": false
   },
   "outputs": [
    {
     "data": {
      "text/html": [
       "<div>\n",
       "<style scoped>\n",
       "    .dataframe tbody tr th:only-of-type {\n",
       "        vertical-align: middle;\n",
       "    }\n",
       "\n",
       "    .dataframe tbody tr th {\n",
       "        vertical-align: top;\n",
       "    }\n",
       "\n",
       "    .dataframe thead th {\n",
       "        text-align: right;\n",
       "    }\n",
       "</style>\n",
       "<table border=\"1\" class=\"dataframe\">\n",
       "  <thead>\n",
       "    <tr style=\"text-align: right;\">\n",
       "      <th></th>\n",
       "      <th>message</th>\n",
       "      <th>class</th>\n",
       "    </tr>\n",
       "  </thead>\n",
       "  <tbody>\n",
       "    <tr>\n",
       "      <th>0</th>\n",
       "      <td>------000000000000000000000\\n\\nContent-Type: t...</td>\n",
       "      <td>spam</td>\n",
       "    </tr>\n",
       "    <tr>\n",
       "      <th>1</th>\n",
       "      <td>Legal TV Descarmbler\\n\\n\\n\\nWant to watch Spor...</td>\n",
       "      <td>spam</td>\n",
       "    </tr>\n",
       "    <tr>\n",
       "      <th>2</th>\n",
       "      <td>FROM: COL. MICHAEL BUNDU. \\n\\nDEMOCRATIC REPUB...</td>\n",
       "      <td>spam</td>\n",
       "    </tr>\n",
       "    <tr>\n",
       "      <th>3</th>\n",
       "      <td>&lt;html&gt;\\n\\n&lt;body&gt;\\n\\n&lt;p align=\"center\"&gt;&lt;a href=...</td>\n",
       "      <td>spam</td>\n",
       "    </tr>\n",
       "    <tr>\n",
       "      <th>4</th>\n",
       "      <td>ATTN:SIR/MADAN      \\n\\n\\n\\n                  ...</td>\n",
       "      <td>spam</td>\n",
       "    </tr>\n",
       "  </tbody>\n",
       "</table>\n",
       "</div>"
      ],
      "text/plain": [
       "                                             message class\n",
       "0  ------000000000000000000000\\n\\nContent-Type: t...  spam\n",
       "1  Legal TV Descarmbler\\n\\n\\n\\nWant to watch Spor...  spam\n",
       "2  FROM: COL. MICHAEL BUNDU. \\n\\nDEMOCRATIC REPUB...  spam\n",
       "3  <html>\\n\\n<body>\\n\\n<p align=\"center\"><a href=...  spam\n",
       "4  ATTN:SIR/MADAN      \\n\\n\\n\\n                  ...  spam"
      ]
     },
     "execution_count": 18,
     "metadata": {},
     "output_type": "execute_result"
    }
   ],
   "source": [
    "df = pd.read_csv('./emails3.csv')\n",
    "df.head()"
   ]
  },
  {
   "cell_type": "code",
   "execution_count": 28,
   "id": "4257b37b",
   "metadata": {},
   "outputs": [
    {
     "data": {
      "text/plain": [
       "(3000, 2)"
      ]
     },
     "execution_count": 28,
     "metadata": {},
     "output_type": "execute_result"
    }
   ],
   "source": [
    "df.shape"
   ]
  },
  {
   "cell_type": "markdown",
   "id": "632ee284",
   "metadata": {},
   "source": [
    "### Separando datos de prueba y entrenamiento"
   ]
  },
  {
   "cell_type": "code",
   "execution_count": 29,
   "id": "67ae0969",
   "metadata": {},
   "outputs": [
    {
     "data": {
      "text/plain": [
       "(2400, 2)"
      ]
     },
     "execution_count": 29,
     "metadata": {},
     "output_type": "execute_result"
    }
   ],
   "source": [
    "train_set, test_set = train_test_split(df, test_size=0.2, random_state=1)\n",
    "train_set.shape"
   ]
  },
  {
   "cell_type": "markdown",
   "id": "24d4d01e",
   "metadata": {},
   "source": [
    "### Preprocesando los datos\n",
    "\n",
    "Se convierten los mensages a una matriz donde cada columna representa la presencia de una parabra en determinado mensage(fila)"
   ]
  },
  {
   "cell_type": "code",
   "execution_count": 30,
   "id": "f7f1f017",
   "metadata": {},
   "outputs": [],
   "source": [
    "vectorizer = CountVectorizer()\n",
    "counts = vectorizer.fit_transform(train_set['message'].values)\n",
    "targets = train_set['class'].copy()"
   ]
  },
  {
   "cell_type": "code",
   "execution_count": 31,
   "id": "430f3ba7",
   "metadata": {},
   "outputs": [
    {
     "data": {
      "text/plain": [
       "array([[1, 1, 0, ..., 0, 0, 0],\n",
       "       [0, 0, 0, ..., 0, 0, 0],\n",
       "       [0, 0, 0, ..., 0, 0, 0],\n",
       "       ...,\n",
       "       [0, 0, 0, ..., 0, 0, 0],\n",
       "       [0, 0, 0, ..., 0, 0, 0],\n",
       "       [0, 0, 0, ..., 0, 0, 0]])"
      ]
     },
     "execution_count": 31,
     "metadata": {},
     "output_type": "execute_result"
    }
   ],
   "source": [
    "counts.toarray()"
   ]
  },
  {
   "cell_type": "code",
   "execution_count": 32,
   "id": "7c1d16ba",
   "metadata": {},
   "outputs": [
    {
     "data": {
      "text/plain": [
       "268     spam\n",
       "32      spam\n",
       "199     spam\n",
       "1488     ham\n",
       "228     spam\n",
       "Name: class, dtype: object"
      ]
     },
     "execution_count": 32,
     "metadata": {},
     "output_type": "execute_result"
    }
   ],
   "source": [
    "targets.head()"
   ]
  },
  {
   "cell_type": "markdown",
   "id": "6203d308",
   "metadata": {},
   "source": [
    "### Probando varios algoritmos de ML"
   ]
  },
  {
   "cell_type": "code",
   "execution_count": 33,
   "id": "8d1050eb",
   "metadata": {},
   "outputs": [],
   "source": [
    "from sklearn.svm import SVC\n",
    "from sklearn.neighbors import KNeighborsClassifier\n",
    "from sklearn.tree import DecisionTreeClassifier\n",
    "from sklearn.naive_bayes import MultinomialNB"
   ]
  },
  {
   "cell_type": "markdown",
   "id": "2b7792ea",
   "metadata": {},
   "source": [
    "#### Algunos datos rapidos de pruebas."
   ]
  },
  {
   "cell_type": "code",
   "execution_count": 34,
   "id": "9aa6b48a",
   "metadata": {},
   "outputs": [],
   "source": [
    "examples = ['Free Viagra now!!!', \"Hi Bob, how about a game of golf tomorrow?\"]\n",
    "example_counts = vectorizer.transform(examples)"
   ]
  },
  {
   "cell_type": "markdown",
   "id": "3071d74e",
   "metadata": {},
   "source": [
    "#### SVM"
   ]
  },
  {
   "cell_type": "code",
   "execution_count": 35,
   "id": "bcd1d91e",
   "metadata": {},
   "outputs": [
    {
     "data": {
      "text/plain": [
       "array(['ham', 'ham'], dtype=object)"
      ]
     },
     "execution_count": 35,
     "metadata": {},
     "output_type": "execute_result"
    }
   ],
   "source": [
    "svm_clf = SVC()\n",
    "svm_clf.fit(counts, targets)\n",
    "\n",
    "svm_clf.predict(example_counts)"
   ]
  },
  {
   "cell_type": "markdown",
   "id": "0a9e34be",
   "metadata": {},
   "source": [
    "#### KNN"
   ]
  },
  {
   "cell_type": "code",
   "execution_count": 36,
   "id": "f23fc6d2",
   "metadata": {
    "scrolled": true
   },
   "outputs": [
    {
     "data": {
      "text/plain": [
       "array(['ham', 'ham'], dtype=object)"
      ]
     },
     "execution_count": 36,
     "metadata": {},
     "output_type": "execute_result"
    }
   ],
   "source": [
    "knn_clf = KNeighborsClassifier()\n",
    "knn_clf.fit(counts, targets)\n",
    "\n",
    "knn_clf.predict(example_counts)"
   ]
  },
  {
   "cell_type": "markdown",
   "id": "f5477811",
   "metadata": {},
   "source": [
    "#### DTree"
   ]
  },
  {
   "cell_type": "code",
   "execution_count": 37,
   "id": "6f4c8275",
   "metadata": {},
   "outputs": [
    {
     "data": {
      "text/plain": [
       "array(['ham', 'ham'], dtype=object)"
      ]
     },
     "execution_count": 37,
     "metadata": {},
     "output_type": "execute_result"
    }
   ],
   "source": [
    "tree_clf = DecisionTreeClassifier()\n",
    "tree_clf.fit(counts, targets)\n",
    "\n",
    "tree_clf.predict(example_counts)"
   ]
  },
  {
   "cell_type": "markdown",
   "id": "3beb4acf",
   "metadata": {},
   "source": [
    "#### NaiveBayes"
   ]
  },
  {
   "cell_type": "code",
   "execution_count": 38,
   "id": "6bb58d47",
   "metadata": {},
   "outputs": [
    {
     "data": {
      "text/plain": [
       "array(['spam', 'ham'], dtype='<U4')"
      ]
     },
     "execution_count": 38,
     "metadata": {},
     "output_type": "execute_result"
    }
   ],
   "source": [
    "nv_clf = MultinomialNB()\n",
    "nv_clf.fit(counts, targets)\n",
    "\n",
    "nv_clf.predict(example_counts)"
   ]
  },
  {
   "cell_type": "markdown",
   "id": "09dfb8c4",
   "metadata": {},
   "source": [
    "### Midiendo la presicion"
   ]
  },
  {
   "cell_type": "code",
   "execution_count": 39,
   "id": "62045655",
   "metadata": {},
   "outputs": [
    {
     "data": {
      "text/plain": [
       "array([0.92375, 0.945  , 0.91875])"
      ]
     },
     "execution_count": 39,
     "metadata": {},
     "output_type": "execute_result"
    }
   ],
   "source": [
    "# SVM\n",
    "cross_val_score(svm_clf, counts, targets, cv=3, scoring=\"accuracy\")"
   ]
  },
  {
   "cell_type": "code",
   "execution_count": 40,
   "id": "f55a6f9c",
   "metadata": {},
   "outputs": [
    {
     "data": {
      "text/plain": [
       "array([0.935  , 0.95125, 0.96375])"
      ]
     },
     "execution_count": 40,
     "metadata": {},
     "output_type": "execute_result"
    }
   ],
   "source": [
    "# KNN\n",
    "cross_val_score(knn_clf, counts, targets, cv=3, scoring=\"accuracy\")"
   ]
  },
  {
   "cell_type": "code",
   "execution_count": 41,
   "id": "57245ec9",
   "metadata": {},
   "outputs": [
    {
     "data": {
      "text/plain": [
       "array([0.97   , 0.965  , 0.96625])"
      ]
     },
     "execution_count": 41,
     "metadata": {},
     "output_type": "execute_result"
    }
   ],
   "source": [
    "# Desition Tree\n",
    "cross_val_score(tree_clf, counts, targets, cv=3, scoring=\"accuracy\")"
   ]
  },
  {
   "cell_type": "code",
   "execution_count": 42,
   "id": "ec0a6737",
   "metadata": {},
   "outputs": [
    {
     "data": {
      "text/plain": [
       "array([0.9625, 0.94  , 0.9675])"
      ]
     },
     "execution_count": 42,
     "metadata": {},
     "output_type": "execute_result"
    }
   ],
   "source": [
    "# NaiveBayes\n",
    "cross_val_score(nv_clf, counts, targets, cv=3, scoring=\"accuracy\")"
   ]
  },
  {
   "cell_type": "markdown",
   "id": "ed1cc86d",
   "metadata": {},
   "source": [
    "### Cambio de metrica de presicion\n",
    "\n",
    "La presicion no es una metrica muy presisa a la hora de hablar de clasificacion, es mejor utilizar la matriz de confusion.\n",
    "\n",
    "Vamos a estar trabajano sobre los modelos Arbol de desicion y NieveBayes que son los que mejor rindieron."
   ]
  },
  {
   "cell_type": "code",
   "execution_count": 43,
   "id": "0bff8004",
   "metadata": {},
   "outputs": [],
   "source": [
    "from sklearn.metrics import confusion_matrix\n",
    "from sklearn.model_selection import cross_val_predict"
   ]
  },
  {
   "cell_type": "code",
   "execution_count": 45,
   "id": "0d76400d",
   "metadata": {},
   "outputs": [
    {
     "data": {
      "text/plain": [
       "array([[1960,   48],\n",
       "       [  37,  355]])"
      ]
     },
     "execution_count": 45,
     "metadata": {},
     "output_type": "execute_result"
    }
   ],
   "source": [
    "# Desision Tree\n",
    "tree_pred = cross_val_predict(tree_clf, counts, targets, cv=3)\n",
    "confusion_matrix(tree_pred, targets)"
   ]
  },
  {
   "cell_type": "code",
   "execution_count": 47,
   "id": "a18cc157",
   "metadata": {},
   "outputs": [
    {
     "data": {
      "text/plain": [
       "array([[1991,   98],\n",
       "       [   6,  305]])"
      ]
     },
     "execution_count": 47,
     "metadata": {},
     "output_type": "execute_result"
    }
   ],
   "source": [
    "# NieveBayes\n",
    "nv_pred = cross_val_predict(nv_clf, counts, targets, cv=3)\n",
    "confusion_matrix(nv_pred, targets)"
   ]
  },
  {
   "cell_type": "markdown",
   "id": "d160b136",
   "metadata": {},
   "source": [
    "### Basado en la matriz de confusion se puede calcular el nivel de presicion del modelo\n",
    "presision = TP / (TP+FP)\n",
    "\n",
    "TP is the number of true positives, and FP is the number of false positives."
   ]
  },
  {
   "cell_type": "code",
   "execution_count": 60,
   "id": "71fd1a0f",
   "metadata": {},
   "outputs": [],
   "source": [
    "from sklearn.metrics import precision_score, recall_score"
   ]
  },
  {
   "cell_type": "code",
   "execution_count": 57,
   "id": "354ed141",
   "metadata": {},
   "outputs": [
    {
     "data": {
      "text/plain": [
       "0.9056122448979592"
      ]
     },
     "execution_count": 57,
     "metadata": {},
     "output_type": "execute_result"
    }
   ],
   "source": [
    "precision_score(targets, tree_pred, average='binary', pos_label='spam')"
   ]
  },
  {
   "cell_type": "code",
   "execution_count": 58,
   "id": "490708df",
   "metadata": {},
   "outputs": [
    {
     "data": {
      "text/plain": [
       "0.9807073954983923"
      ]
     },
     "execution_count": 58,
     "metadata": {},
     "output_type": "execute_result"
    }
   ],
   "source": [
    "precision_score(targets, nv_pred, average='binary', pos_label='spam')"
   ]
  },
  {
   "cell_type": "markdown",
   "id": "27eb5cae",
   "metadata": {},
   "source": [
    "### Modelo de Nieve Bayes supera al de arbol de desicion encuanto a presicion.\n",
    "\n",
    "Existe otra metrica que es inversamente proporcional a la presicion llamada recall. Mientras que la presicion mide cuantos elementos positivos son clasificados como positivos correctamente, el recall mide cuantos positivos son clasificados como negativos o cuantos positivos no son detectados."
   ]
  },
  {
   "cell_type": "code",
   "execution_count": 61,
   "id": "98e3d23f",
   "metadata": {
    "scrolled": true
   },
   "outputs": [
    {
     "data": {
      "text/plain": [
       "0.7568238213399504"
      ]
     },
     "execution_count": 61,
     "metadata": {},
     "output_type": "execute_result"
    }
   ],
   "source": [
    "recall_score(targets, nv_pred, average='binary', pos_label='spam')"
   ]
  },
  {
   "cell_type": "markdown",
   "id": "fd3731bf",
   "metadata": {},
   "source": [
    "### Validando con datos de pruebas"
   ]
  },
  {
   "cell_type": "code",
   "execution_count": 62,
   "id": "c08d2db0",
   "metadata": {},
   "outputs": [
    {
     "data": {
      "text/plain": [
       "0.9866666666666667"
      ]
     },
     "execution_count": 62,
     "metadata": {},
     "output_type": "execute_result"
    }
   ],
   "source": [
    "counts_test = vectorizer.transform(test_set['message'].values)\n",
    "targets_test = test_set['class'].copy()\n",
    "\n",
    "test_predict = nv_clf.predict(counts_test)\n",
    "\n",
    "precision_score(targets_test, test_predict, average='binary', pos_label='spam')"
   ]
  }
 ],
 "metadata": {
  "kernelspec": {
   "display_name": "Python 3 (ipykernel)",
   "language": "python",
   "name": "python3"
  },
  "language_info": {
   "codemirror_mode": {
    "name": "ipython",
    "version": 3
   },
   "file_extension": ".py",
   "mimetype": "text/x-python",
   "name": "python",
   "nbconvert_exporter": "python",
   "pygments_lexer": "ipython3",
   "version": "3.9.7"
  }
 },
 "nbformat": 4,
 "nbformat_minor": 5
}
